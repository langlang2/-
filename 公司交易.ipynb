{
 "cells": [
  {
   "cell_type": "code",
   "execution_count": 11,
   "metadata": {},
   "outputs": [],
   "source": [
    "import pandas as pd\n",
    "import numpy as np\n",
    "import matplotlib.pyplot as plt"
   ]
  },
  {
   "cell_type": "code",
   "execution_count": 8,
   "metadata": {},
   "outputs": [
    {
     "data": {
      "text/html": [
       "<div>\n",
       "<style scoped>\n",
       "    .dataframe tbody tr th:only-of-type {\n",
       "        vertical-align: middle;\n",
       "    }\n",
       "\n",
       "    .dataframe tbody tr th {\n",
       "        vertical-align: top;\n",
       "    }\n",
       "\n",
       "    .dataframe thead th {\n",
       "        text-align: right;\n",
       "    }\n",
       "</style>\n",
       "<table border=\"1\" class=\"dataframe\">\n",
       "  <thead>\n",
       "    <tr style=\"text-align: right;\">\n",
       "      <th></th>\n",
       "      <th>Unnamed: 0</th>\n",
       "      <th>company_name</th>\n",
       "      <th>listing_days</th>\n",
       "      <th>maker_num</th>\n",
       "      <th>employee_num</th>\n",
       "      <th>customer_rt_1st</th>\n",
       "      <th>net_profit_rt</th>\n",
       "      <th>asset</th>\n",
       "      <th>net_asset_per_share</th>\n",
       "      <th>current_rt</th>\n",
       "      <th>gross_cash_flow</th>\n",
       "      <th>net_profit_gr</th>\n",
       "      <th>highest_executive_edu</th>\n",
       "      <th>trading_happen</th>\n",
       "    </tr>\n",
       "  </thead>\n",
       "  <tbody>\n",
       "    <tr>\n",
       "      <th>0</th>\n",
       "      <td>0</td>\n",
       "      <td>中科软</td>\n",
       "      <td>4360.0</td>\n",
       "      <td>1.0</td>\n",
       "      <td>11505.0</td>\n",
       "      <td>0.0666</td>\n",
       "      <td>0.049140</td>\n",
       "      <td>363414.84</td>\n",
       "      <td>2.199850</td>\n",
       "      <td>1.253261</td>\n",
       "      <td>150666.22</td>\n",
       "      <td>0.141548</td>\n",
       "      <td>4.0</td>\n",
       "      <td>1</td>\n",
       "    </tr>\n",
       "    <tr>\n",
       "      <th>1</th>\n",
       "      <td>1</td>\n",
       "      <td>北京时代</td>\n",
       "      <td>4293.0</td>\n",
       "      <td>1.0</td>\n",
       "      <td>247.0</td>\n",
       "      <td>0.1850</td>\n",
       "      <td>-0.114209</td>\n",
       "      <td>72678.87</td>\n",
       "      <td>5.088048</td>\n",
       "      <td>1.064050</td>\n",
       "      <td>1020.98</td>\n",
       "      <td>-3.359722</td>\n",
       "      <td>3.0</td>\n",
       "      <td>1</td>\n",
       "    </tr>\n",
       "    <tr>\n",
       "      <th>2</th>\n",
       "      <td>2</td>\n",
       "      <td>华环电子</td>\n",
       "      <td>4051.0</td>\n",
       "      <td>1.0</td>\n",
       "      <td>470.0</td>\n",
       "      <td>0.2069</td>\n",
       "      <td>0.053101</td>\n",
       "      <td>22421.57</td>\n",
       "      <td>1.469024</td>\n",
       "      <td>2.500393</td>\n",
       "      <td>5287.40</td>\n",
       "      <td>-0.294529</td>\n",
       "      <td>4.0</td>\n",
       "      <td>1</td>\n",
       "    </tr>\n",
       "    <tr>\n",
       "      <th>3</th>\n",
       "      <td>3</td>\n",
       "      <td>现代农装</td>\n",
       "      <td>4041.0</td>\n",
       "      <td>1.0</td>\n",
       "      <td>1627.0</td>\n",
       "      <td>0.1148</td>\n",
       "      <td>-0.313537</td>\n",
       "      <td>156859.94</td>\n",
       "      <td>-0.013698</td>\n",
       "      <td>0.626463</td>\n",
       "      <td>4884.82</td>\n",
       "      <td>0.199084</td>\n",
       "      <td>4.0</td>\n",
       "      <td>1</td>\n",
       "    </tr>\n",
       "    <tr>\n",
       "      <th>4</th>\n",
       "      <td>4</td>\n",
       "      <td>指南针</td>\n",
       "      <td>3995.0</td>\n",
       "      <td>1.0</td>\n",
       "      <td>1437.0</td>\n",
       "      <td>0.1001</td>\n",
       "      <td>0.251228</td>\n",
       "      <td>78769.94</td>\n",
       "      <td>1.768365</td>\n",
       "      <td>1.421174</td>\n",
       "      <td>52707.32</td>\n",
       "      <td>0.368085</td>\n",
       "      <td>3.0</td>\n",
       "      <td>1</td>\n",
       "    </tr>\n",
       "  </tbody>\n",
       "</table>\n",
       "</div>"
      ],
      "text/plain": [
       "   Unnamed: 0 company_name  listing_days  maker_num  employee_num  \\\n",
       "0           0          中科软        4360.0        1.0       11505.0   \n",
       "1           1         北京时代        4293.0        1.0         247.0   \n",
       "2           2         华环电子        4051.0        1.0         470.0   \n",
       "3           3         现代农装        4041.0        1.0        1627.0   \n",
       "4           4          指南针        3995.0        1.0        1437.0   \n",
       "\n",
       "   customer_rt_1st  net_profit_rt      asset  net_asset_per_share  current_rt  \\\n",
       "0           0.0666       0.049140  363414.84             2.199850    1.253261   \n",
       "1           0.1850      -0.114209   72678.87             5.088048    1.064050   \n",
       "2           0.2069       0.053101   22421.57             1.469024    2.500393   \n",
       "3           0.1148      -0.313537  156859.94            -0.013698    0.626463   \n",
       "4           0.1001       0.251228   78769.94             1.768365    1.421174   \n",
       "\n",
       "   gross_cash_flow  net_profit_gr  highest_executive_edu  trading_happen  \n",
       "0        150666.22       0.141548                    4.0               1  \n",
       "1          1020.98      -3.359722                    3.0               1  \n",
       "2          5287.40      -0.294529                    4.0               1  \n",
       "3          4884.82       0.199084                    4.0               1  \n",
       "4         52707.32       0.368085                    3.0               1  "
      ]
     },
     "execution_count": 8,
     "metadata": {},
     "output_type": "execute_result"
    }
   ],
   "source": [
    "df = pd.read_csv('test_1.csv',encoding='gbk')\n",
    "df.head()"
   ]
  },
  {
   "cell_type": "markdown",
   "metadata": {},
   "source": [
    "# 数据检视"
   ]
  },
  {
   "cell_type": "code",
   "execution_count": 7,
   "metadata": {},
   "outputs": [
    {
     "data": {
      "text/plain": [
       "Index(['Unnamed: 0', 'company_name', 'listing_days', 'maker_num',\n",
       "       'employee_num', 'customer_rt_1st', 'net_profit_rt', 'asset',\n",
       "       'net_asset_per_share', 'current_rt', 'gross_cash_flow', 'net_profit_gr',\n",
       "       'highest_executive_edu', 'trading_happen'],\n",
       "      dtype='object')"
      ]
     },
     "execution_count": 7,
     "metadata": {},
     "output_type": "execute_result"
    }
   ],
   "source": [
    "#查看数据列名称\n",
    "df.columns"
   ]
  },
  {
   "cell_type": "code",
   "execution_count": 18,
   "metadata": {},
   "outputs": [
    {
     "data": {
      "text/plain": [
       "(1142, 14)"
      ]
     },
     "execution_count": 18,
     "metadata": {},
     "output_type": "execute_result"
    }
   ],
   "source": [
    "# 查看数据行列数\n",
    "df.shape"
   ]
  },
  {
   "cell_type": "code",
   "execution_count": 13,
   "metadata": {},
   "outputs": [
    {
     "data": {
      "text/html": [
       "<div>\n",
       "<style scoped>\n",
       "    .dataframe tbody tr th:only-of-type {\n",
       "        vertical-align: middle;\n",
       "    }\n",
       "\n",
       "    .dataframe tbody tr th {\n",
       "        vertical-align: top;\n",
       "    }\n",
       "\n",
       "    .dataframe thead th {\n",
       "        text-align: right;\n",
       "    }\n",
       "</style>\n",
       "<table border=\"1\" class=\"dataframe\">\n",
       "  <thead>\n",
       "    <tr style=\"text-align: right;\">\n",
       "      <th></th>\n",
       "      <th>Unnamed: 0</th>\n",
       "      <th>company_name</th>\n",
       "      <th>listing_days</th>\n",
       "      <th>maker_num</th>\n",
       "      <th>employee_num</th>\n",
       "      <th>customer_rt_1st</th>\n",
       "      <th>net_profit_rt</th>\n",
       "      <th>asset</th>\n",
       "      <th>net_asset_per_share</th>\n",
       "      <th>current_rt</th>\n",
       "      <th>gross_cash_flow</th>\n",
       "      <th>net_profit_gr</th>\n",
       "      <th>highest_executive_edu</th>\n",
       "      <th>trading_happen</th>\n",
       "    </tr>\n",
       "  </thead>\n",
       "  <tbody>\n",
       "    <tr>\n",
       "      <th>count</th>\n",
       "      <td>1142.00000</td>\n",
       "      <td>1140</td>\n",
       "      <td>1140.000000</td>\n",
       "      <td>1140.000000</td>\n",
       "      <td>1128.000000</td>\n",
       "      <td>1133.000000</td>\n",
       "      <td>1134.000000</td>\n",
       "      <td>1141.000000</td>\n",
       "      <td>1139.000000</td>\n",
       "      <td>1138.000000</td>\n",
       "      <td>1141.000000</td>\n",
       "      <td>1141.000000</td>\n",
       "      <td>1140.000000</td>\n",
       "      <td>1142.000000</td>\n",
       "    </tr>\n",
       "    <tr>\n",
       "      <th>unique</th>\n",
       "      <td>NaN</td>\n",
       "      <td>1122</td>\n",
       "      <td>NaN</td>\n",
       "      <td>NaN</td>\n",
       "      <td>NaN</td>\n",
       "      <td>NaN</td>\n",
       "      <td>NaN</td>\n",
       "      <td>NaN</td>\n",
       "      <td>NaN</td>\n",
       "      <td>NaN</td>\n",
       "      <td>NaN</td>\n",
       "      <td>NaN</td>\n",
       "      <td>NaN</td>\n",
       "      <td>NaN</td>\n",
       "    </tr>\n",
       "    <tr>\n",
       "      <th>top</th>\n",
       "      <td>NaN</td>\n",
       "      <td>必控科技</td>\n",
       "      <td>NaN</td>\n",
       "      <td>NaN</td>\n",
       "      <td>NaN</td>\n",
       "      <td>NaN</td>\n",
       "      <td>NaN</td>\n",
       "      <td>NaN</td>\n",
       "      <td>NaN</td>\n",
       "      <td>NaN</td>\n",
       "      <td>NaN</td>\n",
       "      <td>NaN</td>\n",
       "      <td>NaN</td>\n",
       "      <td>NaN</td>\n",
       "    </tr>\n",
       "    <tr>\n",
       "      <th>freq</th>\n",
       "      <td>NaN</td>\n",
       "      <td>2</td>\n",
       "      <td>NaN</td>\n",
       "      <td>NaN</td>\n",
       "      <td>NaN</td>\n",
       "      <td>NaN</td>\n",
       "      <td>NaN</td>\n",
       "      <td>NaN</td>\n",
       "      <td>NaN</td>\n",
       "      <td>NaN</td>\n",
       "      <td>NaN</td>\n",
       "      <td>NaN</td>\n",
       "      <td>NaN</td>\n",
       "      <td>NaN</td>\n",
       "    </tr>\n",
       "    <tr>\n",
       "      <th>mean</th>\n",
       "      <td>570.50000</td>\n",
       "      <td>NaN</td>\n",
       "      <td>1399.039474</td>\n",
       "      <td>3.147368</td>\n",
       "      <td>249.266844</td>\n",
       "      <td>0.214527</td>\n",
       "      <td>-1.310933</td>\n",
       "      <td>24530.815863</td>\n",
       "      <td>2.315565</td>\n",
       "      <td>5.133812</td>\n",
       "      <td>3816.951823</td>\n",
       "      <td>-3.003930</td>\n",
       "      <td>3.077193</td>\n",
       "      <td>0.875657</td>\n",
       "    </tr>\n",
       "    <tr>\n",
       "      <th>std</th>\n",
       "      <td>329.81131</td>\n",
       "      <td>NaN</td>\n",
       "      <td>455.223554</td>\n",
       "      <td>3.496548</td>\n",
       "      <td>483.339891</td>\n",
       "      <td>0.163231</td>\n",
       "      <td>40.462729</td>\n",
       "      <td>40759.080570</td>\n",
       "      <td>1.755563</td>\n",
       "      <td>32.390849</td>\n",
       "      <td>13185.910089</td>\n",
       "      <td>78.043495</td>\n",
       "      <td>0.706925</td>\n",
       "      <td>0.330117</td>\n",
       "    </tr>\n",
       "    <tr>\n",
       "      <th>min</th>\n",
       "      <td>0.00000</td>\n",
       "      <td>NaN</td>\n",
       "      <td>1048.000000</td>\n",
       "      <td>1.000000</td>\n",
       "      <td>5.000000</td>\n",
       "      <td>0.000000</td>\n",
       "      <td>-1361.913242</td>\n",
       "      <td>0.000000</td>\n",
       "      <td>-3.187050</td>\n",
       "      <td>0.061754</td>\n",
       "      <td>-29.720000</td>\n",
       "      <td>-2448.312042</td>\n",
       "      <td>1.000000</td>\n",
       "      <td>0.000000</td>\n",
       "    </tr>\n",
       "    <tr>\n",
       "      <th>25%</th>\n",
       "      <td>285.25000</td>\n",
       "      <td>NaN</td>\n",
       "      <td>1144.000000</td>\n",
       "      <td>1.000000</td>\n",
       "      <td>76.750000</td>\n",
       "      <td>0.101100</td>\n",
       "      <td>0.000524</td>\n",
       "      <td>6213.010000</td>\n",
       "      <td>1.322801</td>\n",
       "      <td>1.415907</td>\n",
       "      <td>415.320000</td>\n",
       "      <td>-0.735935</td>\n",
       "      <td>3.000000</td>\n",
       "      <td>1.000000</td>\n",
       "    </tr>\n",
       "    <tr>\n",
       "      <th>50%</th>\n",
       "      <td>570.50000</td>\n",
       "      <td>NaN</td>\n",
       "      <td>1248.000000</td>\n",
       "      <td>1.000000</td>\n",
       "      <td>139.500000</td>\n",
       "      <td>0.165500</td>\n",
       "      <td>0.061184</td>\n",
       "      <td>13127.290000</td>\n",
       "      <td>1.878078</td>\n",
       "      <td>2.136575</td>\n",
       "      <td>1318.380000</td>\n",
       "      <td>-0.058824</td>\n",
       "      <td>3.000000</td>\n",
       "      <td>1.000000</td>\n",
       "    </tr>\n",
       "    <tr>\n",
       "      <th>75%</th>\n",
       "      <td>855.75000</td>\n",
       "      <td>NaN</td>\n",
       "      <td>1437.000000</td>\n",
       "      <td>4.000000</td>\n",
       "      <td>269.250000</td>\n",
       "      <td>0.291700</td>\n",
       "      <td>0.129669</td>\n",
       "      <td>26733.960000</td>\n",
       "      <td>2.860200</td>\n",
       "      <td>3.898784</td>\n",
       "      <td>3429.320000</td>\n",
       "      <td>0.495356</td>\n",
       "      <td>4.000000</td>\n",
       "      <td>1.000000</td>\n",
       "    </tr>\n",
       "    <tr>\n",
       "      <th>max</th>\n",
       "      <td>1141.00000</td>\n",
       "      <td>NaN</td>\n",
       "      <td>4360.000000</td>\n",
       "      <td>31.000000</td>\n",
       "      <td>11505.000000</td>\n",
       "      <td>0.987500</td>\n",
       "      <td>1.169121</td>\n",
       "      <td>626197.040000</td>\n",
       "      <td>24.330332</td>\n",
       "      <td>1050.712264</td>\n",
       "      <td>298946.420000</td>\n",
       "      <td>594.355212</td>\n",
       "      <td>4.000000</td>\n",
       "      <td>1.000000</td>\n",
       "    </tr>\n",
       "  </tbody>\n",
       "</table>\n",
       "</div>"
      ],
      "text/plain": [
       "        Unnamed: 0 company_name  listing_days    maker_num  employee_num  \\\n",
       "count   1142.00000         1140   1140.000000  1140.000000   1128.000000   \n",
       "unique         NaN         1122           NaN          NaN           NaN   \n",
       "top            NaN         必控科技           NaN          NaN           NaN   \n",
       "freq           NaN            2           NaN          NaN           NaN   \n",
       "mean     570.50000          NaN   1399.039474     3.147368    249.266844   \n",
       "std      329.81131          NaN    455.223554     3.496548    483.339891   \n",
       "min        0.00000          NaN   1048.000000     1.000000      5.000000   \n",
       "25%      285.25000          NaN   1144.000000     1.000000     76.750000   \n",
       "50%      570.50000          NaN   1248.000000     1.000000    139.500000   \n",
       "75%      855.75000          NaN   1437.000000     4.000000    269.250000   \n",
       "max     1141.00000          NaN   4360.000000    31.000000  11505.000000   \n",
       "\n",
       "        customer_rt_1st  net_profit_rt          asset  net_asset_per_share  \\\n",
       "count       1133.000000    1134.000000    1141.000000          1139.000000   \n",
       "unique              NaN            NaN            NaN                  NaN   \n",
       "top                 NaN            NaN            NaN                  NaN   \n",
       "freq                NaN            NaN            NaN                  NaN   \n",
       "mean           0.214527      -1.310933   24530.815863             2.315565   \n",
       "std            0.163231      40.462729   40759.080570             1.755563   \n",
       "min            0.000000   -1361.913242       0.000000            -3.187050   \n",
       "25%            0.101100       0.000524    6213.010000             1.322801   \n",
       "50%            0.165500       0.061184   13127.290000             1.878078   \n",
       "75%            0.291700       0.129669   26733.960000             2.860200   \n",
       "max            0.987500       1.169121  626197.040000            24.330332   \n",
       "\n",
       "         current_rt  gross_cash_flow  net_profit_gr  highest_executive_edu  \\\n",
       "count   1138.000000      1141.000000    1141.000000            1140.000000   \n",
       "unique          NaN              NaN            NaN                    NaN   \n",
       "top             NaN              NaN            NaN                    NaN   \n",
       "freq            NaN              NaN            NaN                    NaN   \n",
       "mean       5.133812      3816.951823      -3.003930               3.077193   \n",
       "std       32.390849     13185.910089      78.043495               0.706925   \n",
       "min        0.061754       -29.720000   -2448.312042               1.000000   \n",
       "25%        1.415907       415.320000      -0.735935               3.000000   \n",
       "50%        2.136575      1318.380000      -0.058824               3.000000   \n",
       "75%        3.898784      3429.320000       0.495356               4.000000   \n",
       "max     1050.712264    298946.420000     594.355212               4.000000   \n",
       "\n",
       "        trading_happen  \n",
       "count      1142.000000  \n",
       "unique             NaN  \n",
       "top                NaN  \n",
       "freq               NaN  \n",
       "mean          0.875657  \n",
       "std           0.330117  \n",
       "min           0.000000  \n",
       "25%           1.000000  \n",
       "50%           1.000000  \n",
       "75%           1.000000  \n",
       "max           1.000000  "
      ]
     },
     "execution_count": 13,
     "metadata": {},
     "output_type": "execute_result"
    }
   ],
   "source": [
    "# 查看数据描述性统计\n",
    "df.describe(include = 'all')"
   ]
  },
  {
   "cell_type": "code",
   "execution_count": 15,
   "metadata": {},
   "outputs": [
    {
     "data": {
      "text/plain": [
       "Unnamed: 0                0\n",
       "company_name              2\n",
       "listing_days              2\n",
       "maker_num                 2\n",
       "employee_num             14\n",
       "customer_rt_1st           9\n",
       "net_profit_rt             8\n",
       "asset                     1\n",
       "net_asset_per_share       3\n",
       "current_rt                4\n",
       "gross_cash_flow           1\n",
       "net_profit_gr             1\n",
       "highest_executive_edu     2\n",
       "trading_happen            0\n",
       "dtype: int64"
      ]
     },
     "execution_count": 15,
     "metadata": {},
     "output_type": "execute_result"
    }
   ],
   "source": [
    "# 查看数据表缺失值\n",
    "df.isna().sum()"
   ]
  },
  {
   "cell_type": "code",
   "execution_count": 17,
   "metadata": {},
   "outputs": [
    {
     "data": {
      "text/plain": [
       "0"
      ]
     },
     "execution_count": 17,
     "metadata": {},
     "output_type": "execute_result"
    }
   ],
   "source": [
    "#查看数据表重复值\n",
    "df.duplicated().sum()"
   ]
  },
  {
   "cell_type": "code",
   "execution_count": 20,
   "metadata": {},
   "outputs": [
    {
     "data": {
      "text/plain": [
       "array([[<matplotlib.axes._subplots.AxesSubplot object at 0x000000ACD7609FD0>,\n",
       "        <matplotlib.axes._subplots.AxesSubplot object at 0x000000ACD719EE48>,\n",
       "        <matplotlib.axes._subplots.AxesSubplot object at 0x000000ACD71C90F0>,\n",
       "        <matplotlib.axes._subplots.AxesSubplot object at 0x000000ACD71F2320>],\n",
       "       [<matplotlib.axes._subplots.AxesSubplot object at 0x000000ACD721B588>,\n",
       "        <matplotlib.axes._subplots.AxesSubplot object at 0x000000ACD72427F0>,\n",
       "        <matplotlib.axes._subplots.AxesSubplot object at 0x000000ACD726BA58>,\n",
       "        <matplotlib.axes._subplots.AxesSubplot object at 0x000000ACD7295CF8>],\n",
       "       [<matplotlib.axes._subplots.AxesSubplot object at 0x000000ACD7295D30>,\n",
       "        <matplotlib.axes._subplots.AxesSubplot object at 0x000000ACD72F31D0>,\n",
       "        <matplotlib.axes._subplots.AxesSubplot object at 0x000000ACD7318438>,\n",
       "        <matplotlib.axes._subplots.AxesSubplot object at 0x000000ACD73426A0>],\n",
       "       [<matplotlib.axes._subplots.AxesSubplot object at 0x000000ACD736B908>,\n",
       "        <matplotlib.axes._subplots.AxesSubplot object at 0x000000ACD7392B70>,\n",
       "        <matplotlib.axes._subplots.AxesSubplot object at 0x000000ACD73BDDD8>,\n",
       "        <matplotlib.axes._subplots.AxesSubplot object at 0x000000ACD73EE080>]],\n",
       "      dtype=object)"
      ]
     },
     "execution_count": 20,
     "metadata": {},
     "output_type": "execute_result"
    },
    {
     "data": {
      "image/png": "[encoded data removed]",
      "text/plain": [
       "<Figure size 1296x1296 with 16 Axes>"
      ]
     },
     "metadata": {
      "needs_background": "light"
     },
     "output_type": "display_data"
    }
   ],
   "source": [
    "# 查看数据分布\n",
    "df.hist(figsize=(18,18),bins=50)"
   ]
  },
  {
   "cell_type": "code",
   "execution_count": null,
   "metadata": {},
   "outputs": [],
   "source": [
    "#由上图可知字段\n",
    "#符合近似伯松分布的有：highest_executive_edu,trading_happen \n",
    "#符合近似正太分布字段有：asset ，customer_rt_1st ，current_rt，employee_num  ，gross_cash_flow\n",
    "#maker_num，net_asset_per_share"
   ]
  },
  {
   "cell_type": "code",
   "execution_count": 29,
   "metadata": {},
   "outputs": [],
   "source": [
    "from sklearn.impute import SimpleImputer\n",
    "from sklearn.preprocessing import PowerTransformer\n",
    "from sklearn.preprocessing import OneHotEncoder\n",
    "from sklearn.preprocessing import MinMaxScaler,StandardScaler\n",
    "from sklearn.preprocessing import FunctionTransformer\n",
    "from sklearn_pandas import DataFrameMapper"
   ]
  },
  {
   "cell_type": "code",
   "execution_count": 26,
   "metadata": {},
   "outputs": [
    {
     "data": {
      "text/plain": [
       "Unnamed: 0                 int64\n",
       "company_name              object\n",
       "listing_days             float64\n",
       "maker_num                float64\n",
       "employee_num             float64\n",
       "customer_rt_1st          float64\n",
       "net_profit_rt            float64\n",
       "asset                    float64\n",
       "net_asset_per_share      float64\n",
       "current_rt               float64\n",
       "gross_cash_flow          float64\n",
       "net_profit_gr            float64\n",
       "highest_executive_edu    float64\n",
       "trading_happen             int64\n",
       "dtype: object"
      ]
     },
     "execution_count": 26,
     "metadata": {},
     "output_type": "execute_result"
    }
   ],
   "source": [
    "df.dtypes"
   ]
  },
  {
   "cell_type": "code",
   "execution_count": 45,
   "metadata": {},
   "outputs": [
    {
     "data": {
      "text/plain": [
       "([(['listing_days'],\n",
       "   SimpleImputer(add_indicator=False, copy=True, fill_value=0, missing_values=nan,\n",
       "                 strategy='mean', verbose=0)),\n",
       "  (['asset'], [SimpleImputer(add_indicator=False, copy=True, fill_value=None,\n",
       "                  missing_values=nan, strategy='mean', verbose=0),\n",
       "    PowerTransformer(copy=True, method='yeo-johnson', standardize=True)]),\n",
       "  (['customer_rt_1st'],\n",
       "   [SimpleImputer(add_indicator=False, copy=True, fill_value=None,\n",
       "                  missing_values=nan, strategy='mean', verbose=0),\n",
       "    PowerTransformer(copy=True, method='yeo-johnson', standardize=True)]),\n",
       "  (['current_rt'],\n",
       "   [SimpleImputer(add_indicator=False, copy=True, fill_value=None,\n",
       "                  missing_values=nan, strategy='mean', verbose=0),\n",
       "    PowerTransformer(copy=True, method='yeo-johnson', standardize=True)]),\n",
       "  (['employee_num'],\n",
       "   [SimpleImputer(add_indicator=False, copy=True, fill_value=None,\n",
       "                  missing_values=nan, strategy='mean', verbose=0),\n",
       "    PowerTransformer(copy=True, method='yeo-johnson', standardize=True)]),\n",
       "  (['gross_cash_flow'],\n",
       "   [SimpleImputer(add_indicator=False, copy=True, fill_value=None,\n",
       "                  missing_values=nan, strategy='mean', verbose=0),\n",
       "    PowerTransformer(copy=True, method='yeo-johnson', standardize=True)]),\n",
       "  (['highest_executive_edu'],\n",
       "   [SimpleImputer(add_indicator=False, copy=True, fill_value=None,\n",
       "                  missing_values=nan, strategy='most_frequent', verbose=0),\n",
       "    StandardScaler(copy=True, with_mean=True, with_std=True)]),\n",
       "  (['trading_happen'],\n",
       "   [SimpleImputer(add_indicator=False, copy=True, fill_value=None,\n",
       "                  missing_values=nan, strategy='most_frequent', verbose=0),\n",
       "    StandardScaler(copy=True, with_mean=True, with_std=True)])],\n",
       " 'df_out = False')"
      ]
     },
     "execution_count": 45,
     "metadata": {},
     "output_type": "execute_result"
    }
   ],
   "source": [
    "x_mapper=DataFrameMapper\n",
    "([\n",
    "    #填充缺失值\n",
    "    (['listing_days'],SimpleImputer(fill_value=0)),\n",
    "    #转变为正太分布,填充缺失值使用均值填充\n",
    "    (['asset'],[SimpleImputer(),PowerTransformer()]),\n",
    "    (['customer_rt_1st'],[SimpleImputer(),PowerTransformer()]),\n",
    "    (['current_rt'],[SimpleImputer(),PowerTransformer()]),\n",
    "    (['employee_num'],[SimpleImputer(),PowerTransformer()]),\n",
    "    (['gross_cash_flow'],[SimpleImputer(),PowerTransformer()]),\n",
    "    #离散型变量处理\n",
    "    (['highest_executive_edu'],[SimpleImputer(strategy='most_frequent'),StandardScaler()]),\n",
    "    (['trading_happen'],[SimpleImputer(strategy='most_frequent'),StandardScaler()]),\n",
    "],'df_out = False')\n"
   ]
  },
  {
   "cell_type": "code",
   "execution_count": 50,
   "metadata": {},
   "outputs": [],
   "source": [
    "# 数据集分割\n",
    "from sklearn.model_selection import train_test_split\n",
    "X_train,X_test,y_train,y_test = train_test_split(X,y,test_size=1000,random_state=0)"
   ]
  },
  {
   "cell_type": "code",
   "execution_count": null,
   "metadata": {},
   "outputs": [],
   "source": [
    "#数据重构\n",
    "#样本数量\n",
    "(y_train==0).sum()"
   ]
  },
  {
   "cell_type": "code",
   "execution_count": null,
   "metadata": {},
   "outputs": [],
   "source": [
    "(y_train==1).sum()"
   ]
  },
  {
   "cell_type": "code",
   "execution_count": null,
   "metadata": {},
   "outputs": [],
   "source": [
    "num_sml=(y_train==0).sum()\n",
    "num_big=(y_train==1).sum()\n",
    "#确定需要重采样的数据\n",
    "num_sample=num_big-num_sml"
   ]
  },
  {
   "cell_type": "markdown",
   "metadata": {},
   "source": [
    "## 构建模型"
   ]
  },
  {
   "cell_type": "code",
   "execution_count": null,
   "metadata": {},
   "outputs": [],
   "source": [
    "#导入模型\n",
    "from sklearn.linear_model import LogisticRegression\n",
    "#创建回归模型\n",
    "clf=LogisticRegression(penalty='l1',solver='saga',tol=0.1,C=0.1,random_state=0)\n",
    "#用训练集训练模型\n",
    "clf.fit(X_train_bal,y_train_bal)\n",
    "#用测试集测试模型\n",
    "y_pred=clf.predict(X_test)"
   ]
  }
 ],
 "metadata": {
  "kernelspec": {
   "display_name": "Python 3",
   "language": "python",
   "name": "python3"
  },
  "language_info": {
   "codemirror_mode": {
    "name": "ipython",
    "version": 3
   },
   "file_extension": ".py",
   "mimetype": "text/x-python",
   "name": "python",
   "nbconvert_exporter": "python",
   "pygments_lexer": "ipython3",
   "version": "3.7.1"
  }
 },
 "nbformat": 4,
 "nbformat_minor": 2
}
